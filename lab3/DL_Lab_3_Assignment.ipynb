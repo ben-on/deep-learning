{
  "nbformat": 4,
  "nbformat_minor": 0,
  "metadata": {
    "colab": {
      "provenance": []
    },
    "kernelspec": {
      "name": "python3",
      "display_name": "Python 3"
    },
    "language_info": {
      "name": "python"
    }
  },
  "cells": [
    {
      "cell_type": "code",
      "execution_count": null,
      "metadata": {
        "id": "00VMF-hTaZ0q"
      },
      "outputs": [],
      "source": [
        "import torch"
      ]
    },
    {
      "cell_type": "markdown",
      "source": [
        "\n",
        "**Activation Functions**"
      ],
      "metadata": {
        "id": "0Twf40QJboVZ"
      }
    },
    {
      "cell_type": "code",
      "source": [
        "def relu(inputs):\n",
        "    return torch.maximum(torch.zeros_like(inputs), inputs)\n",
        "\n",
        "def softmax(inputs):\n",
        "    expected_values = torch.exp(inputs - torch.max(inputs, dim=1, keepdim=True).values)\n",
        "    return expected_values / torch.sum(expected_values, dim=1, keepdim=True)\n",
        "\n",
        "def sigmoid(inputs):\n",
        "    return 1 / (1 + torch.exp(-inputs))"
      ],
      "metadata": {
        "id": "XH4jZtAIbrnX"
      },
      "execution_count": 11,
      "outputs": []
    },
    {
      "cell_type": "markdown",
      "source": [
        "**Dense Layer**"
      ],
      "metadata": {
        "id": "Rflxj76ZcGdb"
      }
    },
    {
      "cell_type": "code",
      "source": [
        "class DenseLayer:\n",
        "    def __init__(self, n_features, n_neurons, activation_function):\n",
        "        self.weights = torch.rand((n_features, n_neurons), requires_grad=True)\n",
        "        self.biases = torch.zeros((1, n_neurons), requires_grad=True)\n",
        "        self.activation_function = activation_function\n",
        "\n",
        "    def forward(self, inputs):\n",
        "        weighted_sum = torch.matmul(inputs, self.weights) + self.biases\n",
        "        self.output = self.activation_function(weighted_sum)"
      ],
      "metadata": {
        "id": "vkrXlflUcTH9"
      },
      "execution_count": 12,
      "outputs": []
    },
    {
      "cell_type": "markdown",
      "source": [
        "**Categorical cross-entropy loss function**"
      ],
      "metadata": {
        "id": "EZwYWWKPdIB-"
      }
    },
    {
      "cell_type": "code",
      "source": [
        "def categorical_crossentropy(y_pred, y_true):\n",
        "    y_pred_clipped = torch.clamp(y_pred, 1e-7, 1 - 1e-7)\n",
        "    log_likelihoods = -torch.sum(y_true * torch.log(y_pred_clipped))\n",
        "    return log_likelihoods\n"
      ],
      "metadata": {
        "id": "Rw6emzhrdVR8"
      },
      "execution_count": 13,
      "outputs": []
    },
    {
      "cell_type": "markdown",
      "source": [
        "**Using ReLU for hidden layers**"
      ],
      "metadata": {
        "id": "N9A3aP7ndwPu"
      }
    },
    {
      "cell_type": "code",
      "source": [
        "import torch\n",
        "torch.manual_seed(42)\n",
        "input_data = torch.rand((1, 4), requires_grad=True)\n",
        "\n",
        "# 3 hidden layers\n",
        "layer1 = DenseLayer(4, 18, relu)\n",
        "layer2 = DenseLayer(18, 18, relu)\n",
        "layer3 = DenseLayer(18, 18, relu)\n",
        "# output layer\n",
        "output_layer = DenseLayer(18, 3, softmax)\n",
        "\n",
        "# Forward pass\n",
        "layer1.forward(input_data)\n",
        "layer2.forward(layer1.output)\n",
        "layer3.forward(layer2.output)\n",
        "output_layer.forward(layer3.output)\n",
        "\n",
        "target = torch.tensor([0, 1, 0], dtype=torch.float32, requires_grad=True)\n",
        "\n",
        "# Computing loss\n",
        "loss = categorical_crossentropy(output_layer.output, target)\n",
        "accuracy = target == torch.argmax(output_layer.output, dim=1)\n",
        "\n",
        "print(\"Using ReLU for hidden layers:\")\n",
        "print(\"Final output:\", output_layer.output)\n",
        "print(\"Categorical Cross-Entropy Loss:\", loss.item())\n",
        "print(\"Accuracy:\", accuracy)"
      ],
      "metadata": {
        "id": "QulwQqegd0q0",
        "colab": {
          "base_uri": "https://localhost:8080/"
        },
        "outputId": "e6cdaf1b-d51d-4347-96aa-4cb844bdc4c3"
      },
      "execution_count": 14,
      "outputs": [
        {
          "output_type": "stream",
          "name": "stdout",
          "text": [
            "Using ReLU for hidden layers:\n",
            "Final output: tensor([[1.6322e-15, 0.0000e+00, 1.0000e+00]], grad_fn=<DivBackward0>)\n",
            "Categorical Cross-Entropy Loss: 16.11809539794922\n",
            "Accuracy: tensor([False, False, False])\n"
          ]
        }
      ]
    },
    {
      "cell_type": "markdown",
      "source": [
        "\n",
        "**Using Sigmoid for hidden layers**"
      ],
      "metadata": {
        "id": "sbEEnSEAeBL2"
      }
    },
    {
      "cell_type": "code",
      "source": [
        "import torch\n",
        "torch.manual_seed(42)\n",
        "input_data = torch.rand((1, 4), requires_grad=True)\n",
        "\n",
        "# 3 hidden layers\n",
        "layer1 = DenseLayer(4, 18, sigmoid)\n",
        "layer2 = DenseLayer(18, 18, sigmoid)\n",
        "layer3 = DenseLayer(18, 18, sigmoid)\n",
        "# output layer\n",
        "output_layer = DenseLayer(18, 3, softmax)\n",
        "\n",
        "# Forward pass\n",
        "layer1.forward(input_data)\n",
        "layer2.forward(layer1.output)\n",
        "layer3.forward(layer2.output)\n",
        "output_layer.forward(layer3.output)\n",
        "\n",
        "target = torch.tensor([0, 1, 0], dtype=torch.float32, requires_grad=True)\n",
        "\n",
        "# Computing loss\n",
        "loss = categorical_crossentropy(output_layer.output, target)\n",
        "accuracy = target == torch.argmax(output_layer.output, dim=1)\n",
        "\n",
        "print(\"Using Sigmoid for hidden layers:\")\n",
        "print(\"Final output:\", output_layer.output)\n",
        "print(\"Categorical Cross-Entropy Loss:\", loss.item())\n",
        "print(\"Accuracy:\", accuracy)"
      ],
      "metadata": {
        "id": "0D-VuiQ6eHns",
        "colab": {
          "base_uri": "https://localhost:8080/"
        },
        "outputId": "f3f0b2bf-d5f5-4f98-9c7b-17eae647253b"
      },
      "execution_count": 15,
      "outputs": [
        {
          "output_type": "stream",
          "name": "stdout",
          "text": [
            "Using Sigmoid for hidden layers:\n",
            "Final output: tensor([[0.4800, 0.0678, 0.4522]], grad_fn=<DivBackward0>)\n",
            "Categorical Cross-Entropy Loss: 2.691300630569458\n",
            "Accuracy: tensor([ True, False,  True])\n"
          ]
        }
      ]
    }
  ]
}