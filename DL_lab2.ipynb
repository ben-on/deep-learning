{
  "nbformat": 4,
  "nbformat_minor": 0,
  "metadata": {
    "colab": {
      "provenance": []
    },
    "kernelspec": {
      "name": "python3",
      "display_name": "Python 3"
    },
    "language_info": {
      "name": "python"
    }
  },
  "cells": [
    {
      "cell_type": "code",
      "source": [
        "import torch"
      ],
      "metadata": {
        "id": "3_K-xHI4xsEP"
      },
      "execution_count": null,
      "outputs": []
    },
    {
      "cell_type": "code",
      "execution_count": null,
      "metadata": {
        "id": "0tBCkkBXxTJV"
      },
      "outputs": [],
      "source": [
        "class DenseLayer:\n",
        "  def __init__(self, n_features, n_neurons):\n",
        "    self.weights = 0.01 * torch.rand((n_features, n_neurons))\n",
        "    self.bias = torch.zeros(1, n_neurons)\n",
        "\n",
        "  def forward(self, inputs):\n",
        "    self.output = torch.matmul(inputs, self.weights) + self.bias"
      ]
    },
    {
      "cell_type": "code",
      "source": [
        "layer1 = DenseLayer(5, 16)\n",
        "layer2 = DenseLayer(16, 16)\n",
        "layer3 = DenseLayer(16, 16)\n",
        "outputLayer = DenseLayer(16, 5)"
      ],
      "metadata": {
        "id": "NMI-2h99xXlM"
      },
      "execution_count": null,
      "outputs": []
    },
    {
      "cell_type": "code",
      "source": [
        "inputs = torch.rand((125, 5))\n",
        "layer1.forward(inputs)\n",
        "layer2.forward(layer1.output)\n",
        "layer3.forward(layer2.output)\n",
        "outputLayer.forward(layer3.output)"
      ],
      "metadata": {
        "id": "6dZpi0gaxZYv"
      },
      "execution_count": null,
      "outputs": []
    },
    {
      "cell_type": "code",
      "source": [
        "outputLayer.output.shape"
      ],
      "metadata": {
        "colab": {
          "base_uri": "https://localhost:8080/"
        },
        "id": "9GcppZMvYgTz",
        "outputId": "ada13ec3-4de9-477a-c4fa-de70222b50c6"
      },
      "execution_count": null,
      "outputs": [
        {
          "output_type": "execute_result",
          "data": {
            "text/plain": [
              "torch.Size([125, 5])"
            ]
          },
          "metadata": {},
          "execution_count": 13
        }
      ]
    }
  ]
}