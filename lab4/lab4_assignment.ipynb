{
 "cells": [
  {
   "cell_type": "code",
   "execution_count": 1,
   "metadata": {},
   "outputs": [
    {
     "name": "stdout",
     "output_type": "stream",
     "text": [
      "Input:\n",
      " [[0.5 0.7]]\n",
      "Target:\n",
      " [[0.6 0.8]]\n",
      "Predicted:\n",
      " [[0.98718939 1.28699947]]\n",
      "Mean Squared Error: 0.19354205474785396\n"
     ]
    }
   ],
   "source": [
    "import numpy as np\n",
    "\n",
    "def sigmoid(x):\n",
    "    return 1 / (1 + np.exp(-x))\n",
    "\n",
    "def mean_squared_error(y_true, y_pred):\n",
    "    return np.mean((y_true - y_pred)**2)\n",
    "\n",
    "def sigmoid_derivative(x):\n",
    "    return x * (1 - x)\n",
    "\n",
    "# Initialize random weights and biases\n",
    "np.random.seed(42)\n",
    "input_size = 2\n",
    "hidden_size = 4\n",
    "output_size = 2\n",
    "\n",
    "weights_input_hidden = np.random.rand(input_size, hidden_size)\n",
    "biases_hidden = np.zeros((1, hidden_size))\n",
    "\n",
    "weights_hidden_output = np.random.rand(hidden_size, output_size)\n",
    "biases_output = np.zeros((1, output_size))\n",
    "\n",
    "# Dummy input data\n",
    "X = np.array([[0.5, 0.7]])\n",
    "\n",
    "# Dummy target values\n",
    "y_true = np.array([[0.6, 0.8]])\n",
    "\n",
    "# Forward propagation\n",
    "hidden_layer_input = np.dot(X, weights_input_hidden) + biases_hidden\n",
    "hidden_layer_output = sigmoid(hidden_layer_input)\n",
    "\n",
    "output_layer_input = np.dot(hidden_layer_output, weights_hidden_output) + biases_output\n",
    "y_pred = output_layer_input  # Linear activation for output layer in regression task\n",
    "\n",
    "# Calculate Mean Squared Error\n",
    "loss = mean_squared_error(y_true, y_pred)\n",
    "\n",
    "# Backward propagation\n",
    "# Calculate gradients\n",
    "output_error = y_pred - y_true\n",
    "output_delta = output_error  # Derivative of MSE with respect to the output\n",
    "\n",
    "hidden_layer_error = np.dot(output_delta, weights_hidden_output.T)\n",
    "hidden_delta = hidden_layer_error * sigmoid_derivative(hidden_layer_output)\n",
    "\n",
    "# Update weights and biases using gradients and learning rate\n",
    "learning_rate = 0.01\n",
    "\n",
    "weights_hidden_output -= learning_rate * np.dot(hidden_layer_output.T, output_delta)\n",
    "biases_output -= learning_rate * np.sum(output_delta, axis=0, keepdims=True)\n",
    "\n",
    "weights_input_hidden -= learning_rate * np.dot(X.T, hidden_delta)\n",
    "biases_hidden -= learning_rate * np.sum(hidden_delta, axis=0, keepdims=True)\n",
    "\n",
    "# Now, the weights and biases have been updated based on the backward propagation step\n",
    "\n",
    "# Print results\n",
    "print(\"Input:\\n\", X)\n",
    "print(\"Target:\\n\", y_true)\n",
    "print(\"Predicted:\\n\", y_pred)\n",
    "print(\"Mean Squared Error:\", loss)\n"
   ]
  }
 ],
 "metadata": {
  "kernelspec": {
   "display_name": "Python 3",
   "language": "python",
   "name": "python3"
  },
  "language_info": {
   "codemirror_mode": {
    "name": "ipython",
    "version": 3
   },
   "file_extension": ".py",
   "mimetype": "text/x-python",
   "name": "python",
   "nbconvert_exporter": "python",
   "pygments_lexer": "ipython3",
   "version": "3.11.7"
  }
 },
 "nbformat": 4,
 "nbformat_minor": 2
}
